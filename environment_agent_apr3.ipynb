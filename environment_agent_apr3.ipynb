{
 "cells": [
  {
   "cell_type": "code",
   "execution_count": 1,
   "id": "7deef67e-5b9c-4ff5-a5a3-69850f3fea11",
   "metadata": {},
   "outputs": [],
   "source": [
    "# importing libraries\n",
    "import pandas as pd\n",
    "import matplotlib.pyplot as plt\n",
    "import matplotlib.patches as patches\n",
    "import math\n",
    "import numpy as np\n",
    "import random\n",
    "from Cell2D import Cell2D"
   ]
  },
  {
   "cell_type": "code",
   "execution_count": 2,
   "id": "79d34276-fcf8-473c-ae0e-aa2319ef70d2",
   "metadata": {},
   "outputs": [
    {
     "name": "stdout",
     "output_type": "stream",
     "text": [
      "Here are your plane choices:\n",
      "0                A220-300\n",
      "1      Bombardier CRJ-900\n",
      "2        Beechcraft 1900D\n",
      "3    Boeing 737-300 (733)\n",
      "Name: aircraft_type, dtype: object\n"
     ]
    }
   ],
   "source": [
    "# method to read data from excel file\n",
    "def read_plane_data(file_name):\n",
    "    df_planes = pd.read_excel(file_name)\n",
    "    return df_planes\n",
    "\n",
    "df = read_plane_data('airplanedata.xlsx')\n",
    "\n",
    "print('Here are your plane choices:')\n",
    "print(df['aircraft_type'])"
   ]
  },
  {
   "cell_type": "code",
   "execution_count": 3,
   "id": "ccfacf7a-99a5-4a2e-87f4-084d7211b4bb",
   "metadata": {},
   "outputs": [
    {
     "name": "stdin",
     "output_type": "stream",
     "text": [
      "Input the number corresponding to the plane you'd like to simulate: 2\n"
     ]
    }
   ],
   "source": [
    "plane_choice = input(\"Input the number corresponding to the plane you'd like to simulate:\")    "
   ]
  },
  {
   "cell_type": "code",
   "execution_count": 4,
   "id": "e09ec1b4-1aae-4fa0-8c3a-b7109478371e",
   "metadata": {},
   "outputs": [
    {
     "name": "stdout",
     "output_type": "stream",
     "text": [
      "You selected: Beechcraft 1900D\n"
     ]
    }
   ],
   "source": [
    "plane_type = df.loc[int(plane_choice)].at['aircraft_type']\n",
    "print('You selected:', plane_type)"
   ]
  },
  {
   "cell_type": "code",
   "execution_count": 5,
   "id": "88d5c03c-a8d8-4406-b5a1-0b2b59512fbb",
   "metadata": {},
   "outputs": [
    {
     "data": {
      "text/plain": [
       "[(20.2, 30), (nan, nan), (nan, nan)]"
      ]
     },
     "execution_count": 5,
     "metadata": {},
     "output_type": "execute_result"
    }
   ],
   "source": [
    "def seat_params_info(df, plane_num):\n",
    "    \"\"\"Function to gather information from table regarding seat dimensions and return a list of tuples.\"\"\"\n",
    "    seat_width_economy = df.loc[int(plane_num)].at['seat width - economy']\n",
    "    seat_depth_economy = df.loc[int(plane_num)].at['seat depth - economy']\n",
    "    seat_param_economy = seat_width_economy, seat_depth_economy\n",
    "\n",
    "    seat_width_business = df.loc[int(plane_num)].at['seat width - business']\n",
    "    seat_depth_business = df.loc[int(plane_num)].at['seat depth - business']\n",
    "    seat_param_business = seat_width_business, seat_depth_business\n",
    "\n",
    "    seat_width_1stclass = df.loc[int(plane_num)].at['seat width - first class']\n",
    "    seat_depth_1stclass = df.loc[int(plane_num)].at['seat depth - first class']\n",
    "    seat_param_1stclass = seat_width_1stclass, seat_depth_1stclass\n",
    "\n",
    "    seat_params = [seat_param_economy, seat_param_business, seat_param_1stclass]\n",
    "\n",
    "    return seat_params\n",
    "\n",
    "seat_params_info(df, plane_choice)"
   ]
  },
  {
   "cell_type": "code",
   "execution_count": 6,
   "id": "956c3086-521f-4388-bd65-c6e061a8dfb6",
   "metadata": {},
   "outputs": [
    {
     "data": {
      "text/plain": [
       "(18, 0, 0)"
      ]
     },
     "execution_count": 6,
     "metadata": {},
     "output_type": "execute_result"
    }
   ],
   "source": [
    "def num_of_seats_info(df, plane_num):\n",
    "    \"\"\"Function to gather information from table regarding number of seats and return a tuple.\"\"\"\n",
    "    econ = df.at[int(plane_num), \"total seats - economy\"]\n",
    "    bus = df.at[int(plane_num), \"total seats - business\"]\n",
    "    first = df.at[int(plane_num), \"total seats - first class\"]\n",
    "    \n",
    "    num_of_seats = econ, bus, first\n",
    "\n",
    "    return num_of_seats\n",
    "\n",
    "num_of_seats_info(df, plane_choice)"
   ]
  },
  {
   "cell_type": "code",
   "execution_count": 7,
   "id": "64cc715d-bebe-4445-83bd-2de58e564757",
   "metadata": {},
   "outputs": [
    {
     "data": {
      "text/plain": [
       "['1 1', nan, nan]"
      ]
     },
     "execution_count": 7,
     "metadata": {},
     "output_type": "execute_result"
    }
   ],
   "source": [
    "def seat_arrange_info(df, plane_num):\n",
    "    \"\"\"Function to gather information from table regarding seat arrangement and return a list.\"\"\"\n",
    "    seat_arrange_econ = df.loc[int(plane_num)].at['seat arrangement - economy']\n",
    "\n",
    "    seat_arrange_bus = df.loc[int(plane_num)].at['seat arrangement - business']\n",
    "    \n",
    "    seat_arrange_1st = df.loc[int(plane_num)].at['seat arrangement - first class']\n",
    "    \n",
    "    seat_arrange = [seat_arrange_econ, seat_arrange_bus, seat_arrange_1st]\n",
    "\n",
    "    return seat_arrange\n",
    "\n",
    "seat_arrange_info(df, plane_choice)"
   ]
  },
  {
   "cell_type": "code",
   "execution_count": 8,
   "id": "a57dcc4c-9bfa-4adb-b755-71ac15799a37",
   "metadata": {},
   "outputs": [],
   "source": [
    "class Plane(Cell2D):\n",
    "    def __init__(self, seat_params, num_of_seats, seat_arrange):\n",
    "        self.seat_param_economy = seat_params[0]\n",
    "        self.seat_param_business = seat_params[1]\n",
    "        self.seat_param_firstclass = seat_params[2]\n",
    "\n",
    "        self.num_of_seats_economy = num_of_seats[0]\n",
    "        self.num_of_seats_business = num_of_seats[1]\n",
    "        self.num_of_seats_firstclass = num_of_seats[2]\n",
    "\n",
    "        self.seat_arrange_economy = seat_arrange[0]\n",
    "        self.seat_arrange_business = seat_arrange[1]\n",
    "        self.seat_arrange_firstclass = seat_arrange[2]\n",
    "\n",
    "        self.total_seats = self.num_of_seats_firstclass + self.num_of_seats_business + self.num_of_seats_economy\n",
    "\n",
    "    def draw_sect_of_plane(self, ax, seat_type, start_y, aisle_gap=5, padding = 1):\n",
    "        seats_per_col = seat_type[0]\n",
    "        seats_per_row = seat_type[1]\n",
    "        num_rows = seat_type[2]\n",
    "        seat_width = seat_type[3]\n",
    "        seat_depth = seat_type[4]\n",
    "        \n",
    "        y = start_y\n",
    "        \n",
    "        for row in range(num_rows):\n",
    "            x = 0\n",
    "            y += seat_depth + padding\n",
    "            \n",
    "            for seat in range(seats_per_col[0]):\n",
    "                rect = patches.Rectangle((x, y), seat_width, seat_depth, edgecolor='black', facecolor='grey')\n",
    "                ax.add_patch(rect)\n",
    "\n",
    "                x += seat_width + padding\n",
    "\n",
    "            #make aisle\n",
    "            x += aisle_gap\n",
    "\n",
    "            for seat in range(seats_per_col[2]):\n",
    "                rect = patches.Rectangle((x, y), seat_width, seat_depth, edgecolor='black', facecolor='grey')\n",
    "                ax.add_patch(rect)\n",
    "\n",
    "                x += seat_width + padding\n",
    "\n",
    "    def draw_plane_find_parameters(self, seat_dims, seat_arrangement, num_of_seats):\n",
    "        seats_per_col = seat_arrangement.split(' ')\n",
    "            \n",
    "        for i, num in enumerate(seats_per_col):\n",
    "            seats_per_col[i] = int(num)\n",
    "\n",
    "        dummy_var = seats_per_col[len(seats_per_col)//2]\n",
    "        seats_per_col[len(seats_per_col)//2] = 0\n",
    "        seats_per_col.append(dummy_var)\n",
    "        \n",
    "        seats_in_row = sum(seats_per_col)\n",
    "        num_of_rows = math.ceil(num_of_seats/seats_in_row)\n",
    "\n",
    "        seat_width = seat_dims[0] * 0.2\n",
    "        seat_depth = seat_dims[1] * 0.2\n",
    "\n",
    "        return seats_per_col, seats_in_row, num_of_rows, seat_width, seat_depth\n",
    "    \n",
    "    def draw_plane(self):\n",
    "        fig, ax = plt.subplots(figsize=(10, 6))\n",
    "        current_y = 0\n",
    "        spacing = 1\n",
    "        \n",
    "        # first class seats        \n",
    "        if self.num_of_seats_firstclass != 0:\n",
    "            first_class = self.draw_plane_find_parameters(self.seat_param_firstclass, self.seat_arrange_firstclass, self.num_of_seats_firstclass)\n",
    "            self.draw_sect_of_plane(ax, first_class, current_y, 10, 3)\n",
    "            current_y += first_class[2] * (first_class[4] + spacing) + 1\n",
    "\n",
    "            \n",
    "        # business seats\n",
    "        if self.num_of_seats_business != 0:\n",
    "            business_class = self.draw_plane_find_parameters(self.seat_param_business, self.seat_arrange_business, self.num_of_seats_business)\n",
    "            self.draw_sect_of_plane(ax, business_class, current_y, 5, 2)\n",
    "            current_y += business_class[2] * (business_class[4] + spacing) + 10\n",
    "            \n",
    "        # economy seats\n",
    "        economy_class = self.draw_plane_find_parameters(self.seat_param_economy, self.seat_arrange_economy, self.num_of_seats_economy)\n",
    "        \n",
    "        self.draw_sect_of_plane(ax, economy_class, current_y)\n",
    "        current_y += economy_class[2] * (economy_class[4] + spacing) + 1 \n",
    "\n",
    "        plt.axis('equal')\n",
    "        plt.axis('off')\n",
    "        plt.show()\n",
    "\n",
    "    def get_section_ranges(self):\n",
    "        \"\"\"\n",
    "        New method: Computes seat number ranges for each section (assuming contiguous numbering):\n",
    "        - First class: seats 1 to num_of_seats_firstclass\n",
    "        - Business: next seats\n",
    "        - Economy: remaining seats\n",
    "        \"\"\"\n",
    "        first_range = range(1, self.num_of_seats_firstclass + 1)\n",
    "        business_start = self.num_of_seats_firstclass + 1\n",
    "        business_end = business_start + self.num_of_seats_business - 1\n",
    "        business_range = range(business_start, business_end + 1)\n",
    "        economy_start = business_end + 1\n",
    "        economy_end = self.total_seats\n",
    "        economy_range = range(economy_start, economy_end + 1)\n",
    "        return {'first': first_range, 'business': business_range, 'economy': economy_range}"
   ]
  },
  {
   "cell_type": "code",
   "execution_count": 9,
   "id": "e724cfd4-687f-42b1-9e3c-670a6c1b482d",
   "metadata": {},
   "outputs": [
    {
     "name": "stdout",
     "output_type": "stream",
     "text": [
      "Plane instantiated with total seats: 18\n"
     ]
    }
   ],
   "source": [
    "# Helper function to declare plane object for passenger reference\n",
    "plane = Plane(seat_params_info(df, plane_choice),\n",
    "              num_of_seats_info(df, plane_choice),\n",
    "              seat_arrange_info(df, plane_choice))\n",
    "print(\"Plane instantiated with total seats:\", plane.total_seats)"
   ]
  },
  {
   "cell_type": "code",
   "execution_count": 10,
   "id": "3f3cb23f-4b5b-4b3b-b65a-673d7342328d",
   "metadata": {},
   "outputs": [],
   "source": [
    "# Helper function to determine the section of a given seat\n",
    "def get_section(seat, section_ranges):\n",
    "    for section, rng in section_ranges.items():\n",
    "        if seat in rng:\n",
    "            return section\n",
    "    return None"
   ]
  },
  {
   "cell_type": "code",
   "execution_count": 11,
   "id": "dc34bf2c-0ced-4677-b5f1-6815abed737d",
   "metadata": {},
   "outputs": [],
   "source": [
    "# Define a Passenger agent class with additional attributes\n",
    "class Passenger:\n",
    "    def __init__(self, seat_number, age, walking_speed, luggage, loading_speed, \n",
    "                 is_child=False, parent_seat=None, parent=False, num_children=0, late=False):\n",
    "        self.seat_number = seat_number\n",
    "        self.age = age\n",
    "        self.walking_speed = walking_speed\n",
    "        self.luggage = luggage\n",
    "        self.loading_speed = loading_speed\n",
    "        # Calculate loading time; avoid division by zero\n",
    "        self.loading_time = luggage / loading_speed if loading_speed != 0 else float('inf')\n",
    "        self.is_child = is_child      # True if this passenger is a child\n",
    "        self.parent = parent          # True if this passenger is a parent (non-child)\n",
    "        self.num_children = num_children  # Number of children if parent is True\n",
    "        self.parent_seat = parent_seat    # For child passengers, record parent's seat\n",
    "        self.late = late              # True if the passenger is late to boarding\n",
    "\n",
    "    def __repr__(self):\n",
    "        base = (f\"Passenger(seat={self.seat_number}, age={self.age}, walking_speed={self.walking_speed}, \"\n",
    "                f\"luggage={self.luggage}, loading_speed={self.loading_speed}, loading_time={self.loading_time:.2f}\")\n",
    "        extras = []\n",
    "        if self.parent:\n",
    "            extras.append(f\"parent=True, num_children={self.num_children}\")\n",
    "        if self.is_child:\n",
    "            extras.append(f\"child of seat {self.parent_seat}\")\n",
    "        if self.late:\n",
    "            extras.append(\"late=True\")\n",
    "        extra_str = \", \".join(extras)\n",
    "        if extra_str:\n",
    "            base += \", \" + extra_str\n",
    "        base += \")\"\n",
    "        return base"
   ]
  },
  {
   "cell_type": "code",
   "execution_count": 12,
   "id": "0ee28060-5c92-4652-9e00-f27b1556d7b4",
   "metadata": {},
   "outputs": [],
   "source": [
    "# Functions for generating walking speed, loading speed, and age\n",
    "def generate_walking_speed(age, is_child=False):\n",
    "    speeds = list(range(1, 11))\n",
    "    if is_child:\n",
    "        if age <= 8:\n",
    "            weights = [11 - s for s in speeds]  # Favor lower speeds\n",
    "        else:\n",
    "            weights = speeds  # Favor higher speeds\n",
    "    else:\n",
    "        if age < 55:\n",
    "            weights = speeds  # Favor higher speeds\n",
    "        else:\n",
    "            weights = [11 - s for s in speeds]  # Favor lower speeds\n",
    "    return random.choices(speeds, weights=weights, k=1)[0]\n",
    "\n",
    "def generate_loading_speed(age, is_child=False):\n",
    "    speeds = list(range(1, 11))\n",
    "    if is_child:\n",
    "        if age <= 8:\n",
    "            weights = [11 - s for s in speeds]  # Favor lower loading speeds\n",
    "        else:\n",
    "            weights = speeds  # Favor higher loading speeds\n",
    "    else:\n",
    "        if age < 55:\n",
    "            weights = speeds  # Favor higher loading speeds\n",
    "        else:\n",
    "            weights = [11 - s for s in speeds]  # Favor lower loading speeds\n",
    "    return random.choices(speeds, weights=weights, k=1)[0]\n",
    "\n",
    "def generate_age():\n",
    "    # Generate age for adult passengers based on desired percentages\n",
    "    categories = [\n",
    "        (\"18-54\", 70, (18, 54)),\n",
    "        (\"55-69\", 20, (55, 69)),\n",
    "        (\"70-84\", 5, (70, 84)),\n",
    "        (\"85-99\", 5, (85, 99))\n",
    "    ]\n",
    "    total_weight = sum(weight for (_, weight, _) in categories)\n",
    "    r = random.uniform(0, total_weight)\n",
    "    upto = 0\n",
    "    for label, weight, (low, high) in categories:\n",
    "        if upto + weight >= r:\n",
    "            return random.randint(low, high)\n",
    "        upto += weight\n",
    "    return random.randint(18, 99)"
   ]
  },
  {
   "cell_type": "code",
   "execution_count": 13,
   "id": "b40dafb1-d11e-46d3-be80-76a258096591",
   "metadata": {},
   "outputs": [],
   "source": [
    "def get_closest_seat(target, available):\n",
    "    if not available:\n",
    "        return None\n",
    "    return min(available, key=lambda x: abs(x - target))"
   ]
  },
  {
   "cell_type": "code",
   "execution_count": 14,
   "id": "813e4c43-6092-4d3f-84f4-87c94ab0f060",
   "metadata": {},
   "outputs": [],
   "source": [
    "# Initialize passenger agents using the plane's total seat count and section ranges\n",
    "total_seats = plane.total_seats\n",
    "\n",
    "available_seats = list(range(1, total_seats + 1))\n",
    "passengers = []"
   ]
  },
  {
   "cell_type": "code",
   "execution_count": 15,
   "id": "6df968f6-cce0-4944-b55f-ab269a18f87e",
   "metadata": {},
   "outputs": [
    {
     "ename": "TypeError",
     "evalue": "Passenger.__init__() got multiple values for argument 'is_child'",
     "output_type": "error",
     "traceback": [
      "\u001b[0;31m---------------------------------------------------------------------------\u001b[0m",
      "\u001b[0;31mTypeError\u001b[0m                                 Traceback (most recent call last)",
      "Cell \u001b[0;32mIn[15], line 16\u001b[0m\n\u001b[1;32m     14\u001b[0m num_children \u001b[38;5;241m=\u001b[39m \u001b[38;5;241m1\u001b[39m \u001b[38;5;28;01mif\u001b[39;00m is_parent \u001b[38;5;28;01melse\u001b[39;00m \u001b[38;5;241m0\u001b[39m\n\u001b[1;32m     15\u001b[0m section \u001b[38;5;241m=\u001b[39m get_section(seat, section_ranges)\n\u001b[0;32m---> 16\u001b[0m passenger \u001b[38;5;241m=\u001b[39m \u001b[43mPassenger\u001b[49m\u001b[43m(\u001b[49m\u001b[43mseat\u001b[49m\u001b[43m,\u001b[49m\u001b[43m \u001b[49m\u001b[43mage\u001b[49m\u001b[43m,\u001b[49m\u001b[43m \u001b[49m\u001b[43mws\u001b[49m\u001b[43m,\u001b[49m\u001b[43m \u001b[49m\u001b[43mluggage\u001b[49m\u001b[43m,\u001b[49m\u001b[43m \u001b[49m\u001b[43mls\u001b[49m\u001b[43m,\u001b[49m\u001b[43m \u001b[49m\u001b[43msection\u001b[49m\u001b[43m,\u001b[49m\n\u001b[1;32m     17\u001b[0m \u001b[43m                      \u001b[49m\u001b[43mis_child\u001b[49m\u001b[38;5;241;43m=\u001b[39;49m\u001b[38;5;28;43;01mFalse\u001b[39;49;00m\u001b[43m,\u001b[49m\u001b[43m \u001b[49m\u001b[43mparent\u001b[49m\u001b[38;5;241;43m=\u001b[39;49m\u001b[38;5;28;43;01mFalse\u001b[39;49;00m\u001b[43m,\u001b[49m\u001b[43m \u001b[49m\u001b[43mnum_children\u001b[49m\u001b[38;5;241;43m=\u001b[39;49m\u001b[43mnum_children\u001b[49m\u001b[43m,\u001b[49m\u001b[43m \u001b[49m\u001b[43mlate\u001b[49m\u001b[38;5;241;43m=\u001b[39;49m\u001b[43mlate\u001b[49m\u001b[43m)\u001b[49m\n\u001b[1;32m     18\u001b[0m passengers\u001b[38;5;241m.\u001b[39mappend(passenger)\n\u001b[1;32m     20\u001b[0m \u001b[38;5;66;03m# If the passenger is a parent, generate one child agent near the parent's seat.\u001b[39;00m\n",
      "\u001b[0;31mTypeError\u001b[0m: Passenger.__init__() got multiple values for argument 'is_child'"
     ]
    }
   ],
   "source": [
    "# Retrieve section ranges from the plane (first, business, economy)\n",
    "section_ranges = plane.get_section_ranges()\n",
    "\n",
    "while available_seats:\n",
    "    # Generate an adult passenger from a random available seat\n",
    "    seat = random.choice(available_seats)\n",
    "    available_seats.remove(seat)\n",
    "    age = generate_age()\n",
    "    ws = generate_walking_speed(age, is_child=False)\n",
    "    ls = generate_loading_speed(age, is_child=False)\n",
    "    luggage = random.randint(0, 5)\n",
    "    late = (random.random() < 0.05)  # 5% chance of being late\n",
    "    is_parent = (random.random() < 0.15)  # 15% chance to be a parent\n",
    "    num_children = 1 if is_parent else 0\n",
    "    section = get_section(seat, section_ranges)\n",
    "    passenger = Passenger(seat, age, ws, luggage, ls, section,\n",
    "                          is_child=False, parent=False, num_children=num_children, late=late)\n",
    "    passengers.append(passenger)\n",
    "    \n",
    "    # If the passenger is a parent, generate one child agent near the parent's seat.\n",
    "    if is_parent:\n",
    "        children_late = late  # Inherit parent's lateness\n",
    "        child_seat = get_closest_seat(passenger.seat_number, available_seats)\n",
    "        if child_seat is not None:\n",
    "            available_seats.remove(child_seat)\n",
    "            child_age = random.randint(0, 17)\n",
    "            child_ws = generate_walking_speed(child_age, is_child=True)\n",
    "            child_ls = generate_loading_speed(child_age, is_child=True)\n",
    "            child_luggage = random.randint(0, 5)\n",
    "            child_section = get_section(child_seat, section_ranges)\n",
    "            child_passenger = Passenger(child_seat, child_age, child_ws, child_luggage, child_ls, child_section,\n",
    "                                          is_child=True, parent_seat=passenger.seat_number, parent=False, num_children=0, late=children_late)\n",
    "            passengers.append(child_passenger)"
   ]
  },
  {
   "cell_type": "code",
   "execution_count": null,
   "id": "9576fea2-fdf4-46f4-a40d-a43b27515fdc",
   "metadata": {},
   "outputs": [],
   "source": [
    "# Print Generated Agents - can be deleted later\n",
    "print(\"\\nGenerated Agents:\")\n",
    "for p in sorted(passengers, key=lambda x: x.seat_number):\n",
    "    late_str = \"late: True\" if p.late else \"late: False\"\n",
    "    if p.is_child:\n",
    "        print(f\"Seat {p.seat_number} - section: {p.section}, age: {p.age}, walking_speed: {p.walking_speed}, \"\n",
    "              f\"luggage: {p.luggage}, loading_speed: {p.loading_speed}, loading_time: {p.loading_time:.2f}, {late_str} \"\n",
    "              f\"(Child of Seat {p.parent_seat})\")\n",
    "    else:\n",
    "        print(f\"Seat {p.seat_number} - section: {p.section}, age: {p.age}, walking_speed: {p.walking_speed}, \"\n",
    "              f\"luggage: {p.luggage}, loading_speed: {p.loading_speed}, loading_time: {p.loading_time:.2f}, {late_str}\")"
   ]
  },
  {
   "cell_type": "code",
   "execution_count": null,
   "id": "e69e459c-0e07-467b-98cf-1e27671c1b21",
   "metadata": {},
   "outputs": [],
   "source": [
    "# Age Distribution Anaylsis - can be deleted later\n",
    "age_categories = {\n",
    "    \"0-17\": (0, 17),\n",
    "    \"18-54\": (18, 54),\n",
    "    \"55-69\": (55, 69),\n",
    "    \"70-84\": (70, 84),\n",
    "    \"85-99\": (85, 99)\n",
    "}\n",
    "\n",
    "age_counts = {category: 0 for category in age_categories}\n",
    "total_passengers = len(passengers)\n",
    "\n",
    "for p in passengers:\n",
    "    for category, (low, high) in age_categories.items():\n",
    "        if low <= p.age <= high:\n",
    "            age_counts[category] += 1\n",
    "            break\n",
    "\n",
    "print(\"Percentage of all passengers in each age category:\")\n",
    "for category, count in age_counts.items():\n",
    "    percentage = (count / total_passengers) * 100 if total_passengers > 0 else 0\n",
    "    print(f\"{category}: {percentage:.2f}%\")\n",
    "\n",
    "late_seats = [p.seat_number for p in passengers if p.late]\n",
    "print(\"\\nSeats with late passengers:\")\n",
    "print(late_seats)"
   ]
  },
  {
   "cell_type": "code",
   "execution_count": 9,
   "id": "c127937e-2fc2-4e69-8f4f-5cbac52886f7",
   "metadata": {},
   "outputs": [
    {
     "data": {
      "image/png": "[encoded data removed]",
      "text/plain": [
       "<Figure size 1000x600 with 1 Axes>"
      ]
     },
     "metadata": {},
     "output_type": "display_data"
    }
   ],
   "source": [
    "plane = Plane(seat_params_info(df, plane_choice), num_of_seats_info(df, plane_choice), seat_arrange_info(df, plane_choice))\n",
    "\n",
    "plane.draw_plane()"
   ]
  },
  {
   "cell_type": "code",
   "execution_count": 10,
   "id": "6613cb84-afca-4ea8-b424-7a99f508b4e4",
   "metadata": {},
   "outputs": [
    {
     "data": {
      "image/png": "[encoded data removed]",
      "text/plain": [
       "<Figure size 1000x600 with 1 Axes>"
      ]
     },
     "metadata": {},
     "output_type": "display_data"
    }
   ],
   "source": [
    "plane = Plane(seat_params_info(df, 0), num_of_seats_info(df, 0), seat_arrange_info(df, 0))\n",
    "\n",
    "plane.draw_plane()"
   ]
  },
  {
   "cell_type": "code",
   "execution_count": null,
   "id": "40e1c8e5-7438-46d4-9dfa-c23b3dadba9c",
   "metadata": {},
   "outputs": [],
   "source": []
  }
 ],
 "metadata": {
  "kernelspec": {
   "display_name": "Python 3 (ipykernel)",
   "language": "python",
   "name": "python3"
  },
  "language_info": {
   "codemirror_mode": {
    "name": "ipython",
    "version": 3
   },
   "file_extension": ".py",
   "mimetype": "text/x-python",
   "name": "python",
   "nbconvert_exporter": "python",
   "pygments_lexer": "ipython3",
   "version": "3.11.6"
  }
 },
 "nbformat": 4,
 "nbformat_minor": 5
}
