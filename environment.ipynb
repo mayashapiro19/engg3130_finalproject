{
 "cells": [
  {
   "cell_type": "code",
   "execution_count": 308,
   "id": "7deef67e-5b9c-4ff5-a5a3-69850f3fea11",
   "metadata": {},
   "outputs": [],
   "source": [
    "# importing libraries\n",
    "import pandas as pd\n",
    "import matplotlib.pyplot as plt\n",
    "import matplotlib.patches as patches\n",
    "import math"
   ]
  },
  {
   "cell_type": "code",
   "execution_count": 309,
   "id": "79d34276-fcf8-473c-ae0e-aa2319ef70d2",
   "metadata": {},
   "outputs": [
    {
     "name": "stdout",
     "output_type": "stream",
     "text": [
      "Here are your plane choices:\n",
      "0                        A220-300\n",
      "1              Bombardier CRJ-900\n",
      "2                Beechcraft 1900D\n",
      "3            Boeing 737-300 (733)\n",
      "4      Airbus A319 (319) Layout 1\n",
      "5    Embraer E-175 (E75) Layout 1\n",
      "6           Airbus A320-200 (320)\n",
      "7         Boeing 737-700 Layout 2\n",
      "8                ATR 72-600 (ATR)\n",
      "9            Boeing 717-200 (717)\n",
      "Name: aircraft_type, dtype: object\n"
     ]
    }
   ],
   "source": [
    "# method to read data from excel file\n",
    "def read_plane_data(file_name):\n",
    "    df_planes = pd.read_excel(file_name)\n",
    "    return df_planes\n",
    "\n",
    "df = read_plane_data('airplane data.xlsx')\n",
    "\n",
    "print('Here are your plane choices:')\n",
    "print(df['aircraft_type'])"
   ]
  },
  {
   "cell_type": "code",
   "execution_count": 310,
   "id": "ccfacf7a-99a5-4a2e-87f4-084d7211b4bb",
   "metadata": {},
   "outputs": [
    {
     "name": "stdin",
     "output_type": "stream",
     "text": [
      "Input the number corresponding to the plane you'd like to simulate: 5\n"
     ]
    }
   ],
   "source": [
    "plane_choice = input(\"Input the number corresponding to the plane you'd like to simulate:\")    "
   ]
  },
  {
   "cell_type": "code",
   "execution_count": 311,
   "id": "e09ec1b4-1aae-4fa0-8c3a-b7109478371e",
   "metadata": {},
   "outputs": [
    {
     "name": "stdout",
     "output_type": "stream",
     "text": [
      "You selected: Embraer E-175 (E75) Layout 1\n"
     ]
    }
   ],
   "source": [
    "plane_type = df.loc[int(plane_choice)].at['aircraft_type']\n",
    "print('You selected:', plane_type)"
   ]
  },
  {
   "cell_type": "code",
   "execution_count": 373,
   "id": "88d5c03c-a8d8-4406-b5a1-0b2b59512fbb",
   "metadata": {},
   "outputs": [
    {
     "data": {
      "text/plain": [
       "[(18.25, 31), (18.25, 34.0), (20.0, 37.0)]"
      ]
     },
     "execution_count": 373,
     "metadata": {},
     "output_type": "execute_result"
    }
   ],
   "source": [
    "def seat_params_info(df, plane_num):\n",
    "    \"\"\"Function to gather information from table regarding seat dimensions and return a list of tuples.\"\"\"\n",
    "    seat_width_economy = df.loc[int(plane_num)].at['seat width - economy']\n",
    "    seat_pitch_economy = df.loc[int(plane_num)].at['seat depth - economy']\n",
    "    seat_param_economy = seat_width_economy, seat_pitch_economy\n",
    "\n",
    "    seat_width_business = df.loc[int(plane_num)].at['seat width - business']\n",
    "    seat_pitch_business = df.loc[int(plane_num)].at['seat depth - business']\n",
    "    seat_param_business = seat_width_business, seat_pitch_business\n",
    "\n",
    "    seat_width_1stclass = df.loc[int(plane_num)].at['seat width - first class']\n",
    "    seat_pitch_1stclass = df.loc[int(plane_num)].at['seat depth - first class']\n",
    "    seat_param_1stclass = seat_width_1stclass, seat_pitch_1stclass\n",
    "\n",
    "    seat_params = [seat_param_economy, seat_param_business, seat_param_1stclass]\n",
    "\n",
    "    return seat_params\n",
    "\n",
    "seat_params_info(df, plane_choice)"
   ]
  },
  {
   "cell_type": "code",
   "execution_count": 313,
   "id": "956c3086-521f-4388-bd65-c6e061a8dfb6",
   "metadata": {},
   "outputs": [
    {
     "data": {
      "text/plain": [
       "(76, 12.0, 12)"
      ]
     },
     "execution_count": 313,
     "metadata": {},
     "output_type": "execute_result"
    }
   ],
   "source": [
    "def num_of_seats_info(df, plane_num):\n",
    "    \"\"\"Function to gather information from table regarding number of seats and return a tuple.\"\"\"\n",
    "    econ = df.at[int(plane_num), \"total seats - economy\"]\n",
    "    bus = df.at[int(plane_num), \"total seats - business\"]\n",
    "    first = df.at[int(plane_num), \"total seats - first class\"]\n",
    "    \n",
    "    num_of_seats = econ, bus, first\n",
    "\n",
    "    return num_of_seats\n",
    "\n",
    "num_of_seats_info(df, plane_choice)"
   ]
  },
  {
   "cell_type": "code",
   "execution_count": 314,
   "id": "64cc715d-bebe-4445-83bd-2de58e564757",
   "metadata": {},
   "outputs": [
    {
     "data": {
      "text/plain": [
       "['2 2', '2 2', '1 2']"
      ]
     },
     "execution_count": 314,
     "metadata": {},
     "output_type": "execute_result"
    }
   ],
   "source": [
    "def seat_arrange_info(df, plane_num):\n",
    "    \"\"\"Function to gather information from table regarding seat arrangement and return a list.\"\"\"\n",
    "    seat_arrange_econ = df.loc[int(plane_num)].at['seat arrangement - economy']\n",
    "\n",
    "    seat_arrange_bus = df.loc[int(plane_num)].at['seat arrangement - business']\n",
    "    \n",
    "    seat_arrange_1st = df.loc[int(plane_num)].at['seat arrangement - first class']\n",
    "    \n",
    "    seat_arrange = [seat_arrange_econ, seat_arrange_bus, seat_arrange_1st]\n",
    "\n",
    "    return seat_arrange\n",
    "\n",
    "seat_arrange_info(df, plane_choice)"
   ]
  },
  {
   "cell_type": "code",
   "execution_count": 491,
   "id": "85cae3be-40ff-4c0d-acbf-d361e5cac815",
   "metadata": {},
   "outputs": [],
   "source": [
    "class Seat:\n",
    "    def __init__(self, seat_label, class_type):\n",
    "        self.letter = seat_label[0]\n",
    "        self.row = int(seat_label[1:])\n",
    "        self.class_type = class_type\n",
    "        self.occupied = False"
   ]
  },
  {
   "cell_type": "code",
   "execution_count": 561,
   "id": "b65711ca-8f98-479e-b379-1da3d777dfaa",
   "metadata": {},
   "outputs": [],
   "source": [
    "from Cell2D import Cell2D\n",
    "\n",
    "class Plane(Cell2D):\n",
    "    def __init__(self, seat_params, num_of_seats, seat_arrange):\n",
    "        \"\"\"\n",
    "        Initializing seat dimensions, number of seats for each 'class' of plane, and the seat arrangement\n",
    "        in each 'class' of the plane from the tuple or list passed to the __init__ method for each \n",
    "        corresponding characteristic of the plane.\n",
    "        \"\"\"\n",
    "        # Store seat parameters (width, pitch) for each class\n",
    "        self.seat_param_economy = seat_params[0]\n",
    "        self.seat_param_business = seat_params[1]\n",
    "        self.seat_param_firstclass = seat_params[2]\n",
    "\n",
    "        # Store number of seats in each class\n",
    "        self.num_of_seats_economy = num_of_seats[0]\n",
    "        self.num_of_seats_business = num_of_seats[1]\n",
    "        self.num_of_seats_firstclass = num_of_seats[2]\n",
    "\n",
    "        # Store seat arrangement strings for each class\n",
    "        self.seat_arrange_economy = seat_arrange[0]\n",
    "        self.seat_arrange_business = seat_arrange[1]\n",
    "        self.seat_arrange_firstclass = seat_arrange[2]\n",
    "\n",
    "        self.seats = []\n",
    "\n",
    "    def generate_seat_labels(self, starting_row, num_of_rows, seats_per_row):\n",
    "        seat_labels = []\n",
    "        for row in range(starting_row, num_of_rows + starting_row):\n",
    "            for seat in range(seats_per_row):\n",
    "                seat_letter = chr(64 + seats_per_row - seat)  # 'A', 'B', etc.\n",
    "                seat_labels.append(f\"{seat_letter}{row}\")\n",
    "        return seat_labels[::-1]\n",
    "\n",
    "    def draw_sect_of_plane(self, ax, seat_type, starting_row, class_type):\n",
    "        \"\"\"\n",
    "        Method to draw a section of the plane from the information passed to the method.\n",
    "        The seat_type parameter is a tuple with the data stored as:\n",
    "        (seats per column list, seats per row, number of rows, seat width, seat pitch)\n",
    "        \"\"\"\n",
    "        seats_per_col, seats_per_row, num_of_rows, seat_width, leg_room, aisle_gap, start_y = seat_type\n",
    "        leg_room -= seat_width\n",
    "        seat_depth = 18*0.2  # Fixed depth of seat\n",
    "\n",
    "        seat_labels = self.generate_seat_labels(starting_row, num_of_rows, seats_per_row)\n",
    "        label_index = 0\n",
    "\n",
    "        y = start_y  # Starting vertical position\n",
    "        padding = 1\n",
    "        \n",
    "        for row in range(num_of_rows):\n",
    "            x = 0  # Reset horizontal position for each row\n",
    "            \n",
    "            # Draw seats on the left side of the aisle\n",
    "            for seat in range(seats_per_col[0]):\n",
    "                rect = patches.Rectangle((x, y), seat_depth, seat_width, edgecolor='black', facecolor='lightskyblue')\n",
    "                ax.add_patch(rect)\n",
    "                label = seat_labels[label_index]\n",
    "                ax.text(x + seat_depth / 2, y + seat_width / 2, label, ha='center', va='center', fontsize=6)\n",
    "                self.seats.append(Seat(label, class_type))\n",
    "                label_index += 1\n",
    "                x += seat_depth + padding\n",
    "\n",
    "            # Make aisle\n",
    "            x += aisle_gap\n",
    "\n",
    "            # Draw seats on the right side of the aisle\n",
    "            for seat in range(seats_per_col[2]):\n",
    "                rect = patches.Rectangle((x, y), seat_depth, seat_width, edgecolor='black', facecolor='lightskyblue')\n",
    "                ax.add_patch(rect)\n",
    "                label = seat_labels[label_index]\n",
    "                ax.text(x + seat_depth / 2, y + seat_width / 2, label, ha='center', va='center', fontsize=6)\n",
    "                self.seats.append(Seat(label, class_type))\n",
    "                label_index += 1\n",
    "                x += seat_depth + padding\n",
    "            \n",
    "            # Move to the next row\n",
    "            y += leg_room + seat_width\n",
    "\n",
    "    def draw_plane_find_parameters(self, seat_dims, seat_arrangement, num_of_seats):\n",
    "        \"\"\"\n",
    "        This method extracts useful data to obtain:\n",
    "        seats per column, seats per row, number of rows, seat width, and seat pitch.\n",
    "        Returns a tuple to be passed as a parameter to draw_sect_of_plane.\n",
    "        \"\"\"\n",
    "        seats_per_col = seat_arrangement.split(' ')  # Split arrangement string into list\n",
    "            \n",
    "        for i, num in enumerate(seats_per_col):\n",
    "            seats_per_col[i] = int(num)  # Convert to integers\n",
    "\n",
    "        dummy_var = seats_per_col[len(seats_per_col)//2]  # Extract center value\n",
    "        seats_per_col[len(seats_per_col)//2] = 0  # Replace center value with 0\n",
    "        seats_per_col.append(dummy_var)  # Append center value to the end\n",
    "\n",
    "        seats_in_row = sum(seats_per_col)  # Total seats in a row\n",
    "        num_of_rows = math.ceil(num_of_seats/seats_in_row)  # Calculate number of rows\n",
    "\n",
    "        seat_width = seat_dims[0] * 0.2  # Scale seat width\n",
    "        leg_room = seat_dims[1] * 0.2    # Scale seat pitch\n",
    "\n",
    "        return seats_per_col, seats_in_row, num_of_rows, seat_width, leg_room\n",
    "    \n",
    "    def draw_plane(self):\n",
    "        \"\"\"\n",
    "        This method calls other methods in the Plane class to gather the data needed\n",
    "        to draw each class of the plane, and then draws each section.\n",
    "        \"\"\"\n",
    "        fig, ax = plt.subplots()\n",
    "        padding = 1\n",
    "        \n",
    "        econ_draw_inputs = None\n",
    "        bus_draw_inputs = None\n",
    "        first_draw_inputs = None\n",
    "\n",
    "        econ_y = 0\n",
    "        business_y = 0\n",
    "        first_y = 0\n",
    "\n",
    "        # Economy class section\n",
    "        economy_class = self.draw_plane_find_parameters(self.seat_param_economy, self.seat_arrange_economy, self.num_of_seats_economy)\n",
    "        econ_y = economy_class[2] * (economy_class[4])  # Update vertical position\n",
    "        plane_width = economy_class[3] * (economy_class[1] + padding) +5  # Estimate plane width\n",
    "        econ_extra_inputs = 5, 0\n",
    "        econ_draw_inputs = economy_class + econ_extra_inputs\n",
    "        total_rows = economy_class[2]\n",
    "\n",
    "        # Business class section\n",
    "        if self.num_of_seats_business > 0:\n",
    "            business_class = self.draw_plane_find_parameters(self.seat_param_business, self.seat_arrange_business, self.num_of_seats_business)\n",
    "            fixer = 0\n",
    "            if business_class[1] != economy_class[1]:  # Align business class with economy if needed\n",
    "                fixer = (economy_class[1] - business_class[1]) * (18*0.2 - padding)\n",
    "            business_width = business_class[3] * (business_class[1] + padding)\n",
    "            business_aisle_width = plane_width - business_width + fixer\n",
    "            bus_extra_inputs = business_aisle_width, econ_y\n",
    "            bus_draw_inputs = business_class + bus_extra_inputs\n",
    "            total_rows += business_class[2]\n",
    "            business_y = econ_y + business_class[2] * (business_class[4])\n",
    "            \n",
    "        # First class section        \n",
    "        if self.num_of_seats_firstclass > 0:\n",
    "            first_class = self.draw_plane_find_parameters(self.seat_param_firstclass, self.seat_arrange_firstclass, self.num_of_seats_firstclass)\n",
    "            fixer = 0\n",
    "            if first_class[1] != economy_class[1]:  # Align first class with economy if needed\n",
    "                fixer = (economy_class[1] - first_class[1]) * (18*0.2 - padding)\n",
    "            first_class_width = first_class[3] * (first_class[1] + padding)\n",
    "            first_class_aisle_width = plane_width - first_class_width + fixer\n",
    "            total_rows += first_class[2]\n",
    "            if business_y == 0:\n",
    "                first_extra_inputs = first_class_aisle_width, econ_y\n",
    "                first_draw_inputs = first_class + first_extra_inputs\n",
    "            else:\n",
    "                first_extra_inputs = first_class_aisle_width, business_y\n",
    "                first_draw_inputs = first_class + first_extra_inputs\n",
    "            \n",
    "            first_y = business_y + first_class[2] * (first_class[4])\n",
    "\n",
    "        # generate seat labels\n",
    "        starting_row = 1\n",
    "        if self.num_of_seats_firstclass > 0:\n",
    "            self.draw_sect_of_plane(ax, first_draw_inputs, starting_row, \"first class\")\n",
    "            starting_row += first_class[2]\n",
    "\n",
    "        if self.num_of_seats_business > 0:\n",
    "            self.draw_sect_of_plane(ax, bus_draw_inputs, starting_row, \"business class\")\n",
    "            starting_row += business_class[2]\n",
    "            \n",
    "        self.draw_sect_of_plane(ax, econ_draw_inputs, starting_row, \"economy class\")\n",
    "        \n",
    "        self.plane_length = first_y\n",
    "        \n",
    "        # Set figure size and display\n",
    "        fig.set_size_inches((plane_width + 5) * 0.1, self.plane_length * 0.1)\n",
    "        plt.axis('equal')\n",
    "        plt.axis('off')\n",
    "        plt.show()"
   ]
  },
  {
   "cell_type": "code",
   "execution_count": 417,
   "id": "b2cf34dc-71cd-4d7e-a4ab-9017f55fa5c3",
   "metadata": {},
   "outputs": [],
   "source": [
    "class Passenger:\n",
    "    def __init__(self, current_row_location):\n",
    "        self.seat_letter = None\n",
    "        self.row_num = None\n",
    "        self.current_row_location = current_row_location\n",
    "        self.speed = 1\n",
    "        self.status = \"not seated\""
   ]
  },
  {
   "cell_type": "code",
   "execution_count": 413,
   "id": "43190e61-dde2-4022-87a6-3b718a3a85be",
   "metadata": {},
   "outputs": [],
   "source": [
    "class PlaneBoarding(Cell2D):\n",
    "    def __init__(self, num_of_passengers, plane, constructor = Passenger):\n",
    "        self.plane = plane\n",
    "        # Start passengers just outside the plane \n",
    "        start_positions = np.linspace(self.plane.plane_length, self.plane.plane_length + num_of_passengers, num_of_passengers, endpoint=False)\n",
    "        self.passengers = [constructor(pos) for pos in start_positions]\n",
    "\n",
    "        # link them up in a list\n",
    "        for i in range(n):\n",
    "            self.passengers[i].next = self.passengers[i+1]\n",
    "\n",
    "    def find_aisle(self):\n",
    "        economy_class = self.plane.draw_plane_find_parameters(self.plane.seat_param_economy, self.plane.seat_arrange_economy, \n",
    "                                                              self.plane.num_of_seats_economy)\n",
    "        x_aisle_coord = (economy_class[3] * (economy_class[1] + padding) +5)/2\n",
    "\n",
    "        return x_aisle_coord\n",
    "        \n",
    "    def step(self):\n",
    "        previous_passenger = None\n",
    "        for passenger in self.passengers:\n",
    "            self.move(previous_passenger, passenger)\n",
    "            previous_passenger = passenger\n",
    "\n",
    "    def move(self, previous_passenger, passenger):\n",
    "        if self.status == \"not seated\":\n",
    "            # find seat\n",
    "            if (passenger.row_location < passenger.row_num):\n",
    "                # if person in front of yous speed != 0, move forward one seat\n",
    "                if (previous_passenger.speed != 0):\n",
    "                    passenger.current_row_location += passenger.speed\n",
    "                elif (previous_passenger.speed == 0) && previous_passenger.status == \"not seated\":\n",
    "                    # don't update current_row_location\n",
    "                # if person in front of yous speed == 0 and they are seated then move forward one seat\n",
    "                elif (previous_passenger.speed == 0) && previous_passenger.status == \"seated\":\n",
    "                    passenger.speed = 1\n",
    "            elif (passenger.row_location == passenger.row_num):\n",
    "                # set speed to zero\n",
    "                passenger.speed = 0\n",
    "                # go to seat\n",
    "                    # check if other people are in the row and have to get out for you to get to your seat\n",
    "                    # move side ways by number of seats from aisle + 18*0.2/2\n",
    "                # change status to seated\n",
    "                self.status == \"seated\"\n",
    "    \n",
    "    def draw_passengers(self, width, plane_length):\n",
    "        x = self.find_aisle()\n",
    "        \n",
    "        passengers = self.passengers\n",
    "        plt.plot(x, plane_length, 'bs', markersize=10, alpha=0.7)"
   ]
  },
  {
   "cell_type": "code",
   "execution_count": 559,
   "id": "c127937e-2fc2-4e69-8f4f-5cbac52886f7",
   "metadata": {},
   "outputs": [
    {
     "data": {
      "image/png": "[encoded data removed]",
      "text/plain": [
       "<Figure size 282.5x1678 with 1 Axes>"
      ]
     },
     "metadata": {},
     "output_type": "display_data"
    }
   ],
   "source": [
    "plane = Plane(seat_params_info(df, plane_choice), num_of_seats_info(df, plane_choice), seat_arrange_info(df, plane_choice))\n",
    "\n",
    "plane.draw_plane()"
   ]
  }
 ],
 "metadata": {
  "kernelspec": {
   "display_name": "Python [conda env:base] *",
   "language": "python",
   "name": "conda-base-py"
  },
  "language_info": {
   "codemirror_mode": {
    "name": "ipython",
    "version": 3
   },
   "file_extension": ".py",
   "mimetype": "text/x-python",
   "name": "python",
   "nbconvert_exporter": "python",
   "pygments_lexer": "ipython3",
   "version": "3.12.7"
  }
 },
 "nbformat": 4,
 "nbformat_minor": 5
}
