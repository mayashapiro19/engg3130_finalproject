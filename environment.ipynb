{
 "cells": [
  {
   "cell_type": "code",
   "execution_count": 308,
   "id": "7deef67e-5b9c-4ff5-a5a3-69850f3fea11",
   "metadata": {},
   "outputs": [],
   "source": [
    "# importing libraries\n",
    "import pandas as pd\n",
    "import matplotlib.pyplot as plt\n",
    "import matplotlib.patches as patches\n",
    "import math"
   ]
  },
  {
   "cell_type": "code",
   "execution_count": 309,
   "id": "79d34276-fcf8-473c-ae0e-aa2319ef70d2",
   "metadata": {},
   "outputs": [
    {
     "name": "stdout",
     "output_type": "stream",
     "text": [
      "Here are your plane choices:\n",
      "0                        A220-300\n",
      "1              Bombardier CRJ-900\n",
      "2                Beechcraft 1900D\n",
      "3            Boeing 737-300 (733)\n",
      "4      Airbus A319 (319) Layout 1\n",
      "5    Embraer E-175 (E75) Layout 1\n",
      "6           Airbus A320-200 (320)\n",
      "7         Boeing 737-700 Layout 2\n",
      "8                ATR 72-600 (ATR)\n",
      "9            Boeing 717-200 (717)\n",
      "Name: aircraft_type, dtype: object\n"
     ]
    }
   ],
   "source": [
    "# method to read data from excel file\n",
    "def read_plane_data(file_name):\n",
    "    df_planes = pd.read_excel(file_name)\n",
    "    return df_planes\n",
    "\n",
    "df = read_plane_data('airplane data.xlsx')\n",
    "\n",
    "print('Here are your plane choices:')\n",
    "print(df['aircraft_type'])"
   ]
  },
  {
   "cell_type": "code",
   "execution_count": 310,
   "id": "ccfacf7a-99a5-4a2e-87f4-084d7211b4bb",
   "metadata": {},
   "outputs": [
    {
     "name": "stdin",
     "output_type": "stream",
     "text": [
      "Input the number corresponding to the plane you'd like to simulate: 5\n"
     ]
    }
   ],
   "source": [
    "plane_choice = input(\"Input the number corresponding to the plane you'd like to simulate:\")    "
   ]
  },
  {
   "cell_type": "code",
   "execution_count": 311,
   "id": "e09ec1b4-1aae-4fa0-8c3a-b7109478371e",
   "metadata": {},
   "outputs": [
    {
     "name": "stdout",
     "output_type": "stream",
     "text": [
      "You selected: Embraer E-175 (E75) Layout 1\n"
     ]
    }
   ],
   "source": [
    "plane_type = df.loc[int(plane_choice)].at['aircraft_type']\n",
    "print('You selected:', plane_type)"
   ]
  },
  {
   "cell_type": "code",
   "execution_count": 312,
   "id": "88d5c03c-a8d8-4406-b5a1-0b2b59512fbb",
   "metadata": {},
   "outputs": [
    {
     "data": {
      "text/plain": [
       "[(18.25, 31), (18.25, 34.0), (20.0, 37.0)]"
      ]
     },
     "execution_count": 312,
     "metadata": {},
     "output_type": "execute_result"
    }
   ],
   "source": [
    "def seat_params_info(df, plane_num):\n",
    "    \"\"\"Function to gather information from table regarding seat dimensions and return a list of tuples.\"\"\"\n",
    "    seat_width_economy = df.loc[int(plane_num)].at['seat width - economy']\n",
    "    seat_depth_economy = df.loc[int(plane_num)].at['seat depth - economy']\n",
    "    seat_param_economy = seat_width_economy, seat_depth_economy\n",
    "\n",
    "    seat_width_business = df.loc[int(plane_num)].at['seat width - business']\n",
    "    seat_depth_business = df.loc[int(plane_num)].at['seat depth - business']\n",
    "    seat_param_business = seat_width_business, seat_depth_business\n",
    "\n",
    "    seat_width_1stclass = df.loc[int(plane_num)].at['seat width - first class']\n",
    "    seat_depth_1stclass = df.loc[int(plane_num)].at['seat depth - first class']\n",
    "    seat_param_1stclass = seat_width_1stclass, seat_depth_1stclass\n",
    "\n",
    "    seat_params = [seat_param_economy, seat_param_business, seat_param_1stclass]\n",
    "\n",
    "    return seat_params\n",
    "\n",
    "seat_params_info(df, plane_choice)"
   ]
  },
  {
   "cell_type": "code",
   "execution_count": 313,
   "id": "956c3086-521f-4388-bd65-c6e061a8dfb6",
   "metadata": {},
   "outputs": [
    {
     "data": {
      "text/plain": [
       "(76, 12.0, 12)"
      ]
     },
     "execution_count": 313,
     "metadata": {},
     "output_type": "execute_result"
    }
   ],
   "source": [
    "def num_of_seats_info(df, plane_num):\n",
    "    \"\"\"Function to gather information from table regarding number of seats and return a tuple.\"\"\"\n",
    "    econ = df.at[int(plane_num), \"total seats - economy\"]\n",
    "    bus = df.at[int(plane_num), \"total seats - business\"]\n",
    "    first = df.at[int(plane_num), \"total seats - first class\"]\n",
    "    \n",
    "    num_of_seats = econ, bus, first\n",
    "\n",
    "    return num_of_seats\n",
    "\n",
    "num_of_seats_info(df, plane_choice)"
   ]
  },
  {
   "cell_type": "code",
   "execution_count": 314,
   "id": "64cc715d-bebe-4445-83bd-2de58e564757",
   "metadata": {},
   "outputs": [
    {
     "data": {
      "text/plain": [
       "['2 2', '2 2', '1 2']"
      ]
     },
     "execution_count": 314,
     "metadata": {},
     "output_type": "execute_result"
    }
   ],
   "source": [
    "def seat_arrange_info(df, plane_num):\n",
    "    \"\"\"Function to gather information from table regarding seat arrangement and return a list.\"\"\"\n",
    "    seat_arrange_econ = df.loc[int(plane_num)].at['seat arrangement - economy']\n",
    "\n",
    "    seat_arrange_bus = df.loc[int(plane_num)].at['seat arrangement - business']\n",
    "    \n",
    "    seat_arrange_1st = df.loc[int(plane_num)].at['seat arrangement - first class']\n",
    "    \n",
    "    seat_arrange = [seat_arrange_econ, seat_arrange_bus, seat_arrange_1st]\n",
    "\n",
    "    return seat_arrange\n",
    "\n",
    "seat_arrange_info(df, plane_choice)"
   ]
  },
  {
   "cell_type": "code",
   "execution_count": 350,
   "id": "b65711ca-8f98-479e-b379-1da3d777dfaa",
   "metadata": {},
   "outputs": [],
   "source": [
    "from Cell2D import Cell2D\n",
    "\n",
    "class Plane(Cell2D):\n",
    "    def __init__(self, seat_params, num_of_seats, seat_arrange):\n",
    "        \"\"\"Initializing seat dimensions, number of seats for each 'class' of plane and the seat arrangement in each 'class' of the plane\n",
    "        from the tuple or list passed to the __init__ method for each corresponding characteristic of the plane.\"\"\"\n",
    "        self.seat_param_economy = seat_params[0]\n",
    "        self.seat_param_business = seat_params[1]\n",
    "        self.seat_param_firstclass = seat_params[2]\n",
    "\n",
    "        self.num_of_seats_economy = num_of_seats[0]\n",
    "        self.num_of_seats_business = num_of_seats[1]\n",
    "        self.num_of_seats_firstclass = num_of_seats[2]\n",
    "\n",
    "        self.seat_arrange_economy = seat_arrange[0]\n",
    "        self.seat_arrange_business = seat_arrange[1]\n",
    "        self.seat_arrange_firstclass = seat_arrange[2]\n",
    "\n",
    "    def draw_sect_of_plane(self, ax, seat_type, start_y, aisle_gap=5, padding = 1):\n",
    "        \"\"\"Method to draw a section of the plane from the information passed to the method. The seat_type parameter is a tuple with the data in\n",
    "        the tuple stored as follows: seats per column, seats per row, number of rows, seat width, seat pitch.\"\"\"\n",
    "        seats_per_col = seat_type[0]\n",
    "        seats_per_row = seat_type[1]\n",
    "        num_rows = seat_type[2]\n",
    "        seat_width = seat_type[3]\n",
    "        leg_room = seat_type[4] - seat_type[3]\n",
    "        seat_depth = 18*0.2\n",
    "        \n",
    "        y = start_y\n",
    "        \n",
    "        for row in range(num_rows):\n",
    "            x = 0\n",
    "            \n",
    "            for seat in range(seats_per_col[0]):\n",
    "                rect = patches.Rectangle((x, y), seat_depth, seat_width, edgecolor='black', facecolor='grey')\n",
    "                ax.add_patch(rect)\n",
    "\n",
    "                x += seat_depth + padding\n",
    "\n",
    "            #make aisle\n",
    "            x += aisle_gap\n",
    "\n",
    "            for seat in range(seats_per_col[2]):\n",
    "                rect = patches.Rectangle((x, y), seat_depth, seat_width, edgecolor='black', facecolor='grey')\n",
    "                ax.add_patch(rect)\n",
    "            \n",
    "                x += seat_depth + padding\n",
    "            \n",
    "            y += leg_room + seat_width\n",
    "\n",
    "    def draw_plane_find_parameters(self, seat_dims, seat_arrangement, num_of_seats):\n",
    "        \"\"\"This method takes a given parameter and extracts the useful data to obtain the seats per column, seats per row, number of rows, seat width,\n",
    "        and seat pitch for the data (or class) passed to the method and returns a tuple to be passed as a parameter to the draw_set_of_plane method.\"\"\"\n",
    "        seats_per_col = seat_arrangement.split(' ')\n",
    "            \n",
    "        for i, num in enumerate(seats_per_col):\n",
    "            seats_per_col[i] = int(num)\n",
    "\n",
    "        dummy_var = seats_per_col[len(seats_per_col)//2]\n",
    "        seats_per_col[len(seats_per_col)//2] = 0\n",
    "        seats_per_col.append(dummy_var)\n",
    "        \n",
    "        seats_in_row = sum(seats_per_col)\n",
    "        num_of_rows = math.ceil(num_of_seats/seats_in_row)\n",
    "\n",
    "        seat_width = seat_dims[0] * 0.2\n",
    "        leg_room = seat_dims[1] * 0.2\n",
    "\n",
    "        return seats_per_col, seats_in_row, num_of_rows, seat_width, leg_room\n",
    "    \n",
    "    def draw_plane(self):\n",
    "        \"\"\"The draw_plane method calls on other methods in the plane class to gather the data needed to draw each class of the plane. It then \n",
    "        calls the method to draw each section of the plane.\"\"\"\n",
    "        fig, ax = plt.subplots()\n",
    "        padding = 1\n",
    "        current_y = 0\n",
    "\n",
    "        # economy seats\n",
    "        economy_class = self.draw_plane_find_parameters(self.seat_param_economy, self.seat_arrange_economy, self.num_of_seats_economy)\n",
    "        self.draw_sect_of_plane(ax, economy_class, current_y)\n",
    "        current_y += economy_class[2] * (economy_class[4])\n",
    "        plane_width = economy_class[3] * (economy_class[1] + padding) +5\n",
    "\n",
    "        # business seats\n",
    "        if self.num_of_seats_business > 0:\n",
    "            business_class = self.draw_plane_find_parameters(self.seat_param_business, self.seat_arrange_business, self.num_of_seats_business)\n",
    "            fixer = 0\n",
    "            if business_class[1] != economy_class[1]:\n",
    "                fixer = (economy_class[1] - business_class[1]) * (18*0.2 - padding)\n",
    "            business_width = business_class[3] * (business_class[1] + padding)\n",
    "            business_aisle_width = plane_width - business_width + fixer\n",
    "            self.draw_sect_of_plane(ax, business_class, current_y, business_aisle_width)\n",
    "            current_y += business_class[2] * (business_class[4])\n",
    "        \n",
    "        # first class seats        \n",
    "        if self.num_of_seats_firstclass > 0:\n",
    "            first_class = self.draw_plane_find_parameters(self.seat_param_firstclass, self.seat_arrange_firstclass, self.num_of_seats_firstclass)\n",
    "            fixer = 0\n",
    "            if first_class[1] != economy_class[1]:\n",
    "                fixer = (economy_class[1] - first_class[1]) * (18*0.2 - padding)\n",
    "            first_class_width = first_class[3] * (first_class[1] + padding)\n",
    "            first_class_aisle_width = plane_width - first_class_width + fixer\n",
    "            self.draw_sect_of_plane(ax, first_class, current_y, first_class_aisle_width)\n",
    "            current_y += first_class[2] * (first_class[4])        \n",
    "\n",
    "        fig.set_size_inches((plane_width + 5) * 0.1, current_y * 0.1)\n",
    "        plt.axis('equal')\n",
    "        plt.axis('off')\n",
    "        plt.show()"
   ]
  },
  {
   "cell_type": "code",
   "execution_count": 352,
   "id": "c127937e-2fc2-4e69-8f4f-5cbac52886f7",
   "metadata": {},
   "outputs": [
    {
     "data": {
      "image/png": "[encoded data removed]",
      "text/plain": [
       "<Figure size 282.5x1678 with 1 Axes>"
      ]
     },
     "metadata": {},
     "output_type": "display_data"
    }
   ],
   "source": [
    "plane = Plane(seat_params_info(df, plane_choice), num_of_seats_info(df, plane_choice), seat_arrange_info(df, plane_choice))\n",
    "\n",
    "plane.draw_plane()"
   ]
  }
 ],
 "metadata": {
  "kernelspec": {
   "display_name": "Python [conda env:base] *",
   "language": "python",
   "name": "conda-base-py"
  },
  "language_info": {
   "codemirror_mode": {
    "name": "ipython",
    "version": 3
   },
   "file_extension": ".py",
   "mimetype": "text/x-python",
   "name": "python",
   "nbconvert_exporter": "python",
   "pygments_lexer": "ipython3",
   "version": "3.12.7"
  }
 },
 "nbformat": 4,
 "nbformat_minor": 5
}
